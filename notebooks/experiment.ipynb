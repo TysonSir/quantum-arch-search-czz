{
 "cells": [
  {
   "cell_type": "markdown",
   "metadata": {},
   "source": [
    "# Install and import packages\n",
    "--------"
   ]
  },
  {
   "cell_type": "code",
   "execution_count": null,
   "metadata": {},
   "outputs": [],
   "source": [
    "# install/import quantum gym environments\n",
    "!pip install git+https://github.com/qdevpsi3/quantum-arch-search.git\n",
    "\n",
    "# install/import stable baselines 3\n",
    "!pip install stable_baselines3"
   ]
  },
  {
   "cell_type": "code",
   "execution_count": null,
   "metadata": {},
   "outputs": [],
   "source": [
    "import gym\n",
    "import torch.optim as optim\n",
    "from stable_baselines3 import A2C, PPO\n",
    "from stable_baselines3.common.evaluation import evaluate_policy\n",
    "\n",
    "import qas_gym"
   ]
  },
  {
   "cell_type": "markdown",
   "metadata": {},
   "source": [
    "# Basic Environment\n",
    "------\n",
    "Create your gym environment :"
   ]
  },
  {
   "cell_type": "code",
   "execution_count": null,
   "metadata": {},
   "outputs": [],
   "source": [
    "# Parameters \n",
    "env_name = 'BasicTwoQubit-v0'\n",
    "fidelity_threshold = 0.95\n",
    "reward_penalty = 0.01\n",
    "max_timesteps = 20\n",
    "\n",
    "# Environment\n",
    "env = gym.make(env_name,\n",
    "               fidelity_threshold=fidelity_threshold,\n",
    "               reward_penalty=reward_penalty,\n",
    "               max_timesteps=max_timesteps)"
   ]
  },
  {
   "cell_type": "markdown",
   "metadata": {},
   "source": [
    "Diplay the action gates : "
   ]
  },
  {
   "cell_type": "code",
   "execution_count": null,
   "metadata": {},
   "outputs": [],
   "source": [
    "for idx, gate in enumerate(env.action_gates):\n",
    "    print('Action({:02d}) --> {}'.format(idx, gate))"
   ]
  },
  {
   "cell_type": "markdown",
   "metadata": {},
   "source": [
    "Diplay the state observables : "
   ]
  },
  {
   "cell_type": "code",
   "execution_count": null,
   "metadata": {},
   "outputs": [],
   "source": [
    "for idx, observable in enumerate(env.state_observables):\n",
    "    print('State({:02d}) --> {}'.format(idx, observable))"
   ]
  },
  {
   "cell_type": "markdown",
   "metadata": {},
   "source": [
    "# A2C Agent\n",
    "------"
   ]
  },
  {
   "cell_type": "code",
   "execution_count": null,
   "metadata": {},
   "outputs": [],
   "source": [
    "# Parameters\n",
    "gamma = 0.99\n",
    "learning_rate = 0.0001\n",
    "policy_kwargs = dict(optimizer_class=optim.Adam)\n",
    "\n",
    "# Agent\n",
    "a2c_model = A2C(\"MlpPolicy\",\n",
    "                env,\n",
    "                gamma=gamma,\n",
    "                learning_rate=learning_rate,\n",
    "                policy_kwargs=policy_kwargs,\n",
    "                tensorboard_log='logs/')"
   ]
  },
  {
   "cell_type": "code",
   "execution_count": null,
   "metadata": {},
   "outputs": [],
   "source": [
    "a2c_model.learn(total_timesteps=1000)"
   ]
  },
  {
   "cell_type": "markdown",
   "metadata": {},
   "source": [
    "# PPO Model\n",
    "------"
   ]
  },
  {
   "cell_type": "code",
   "execution_count": null,
   "metadata": {},
   "outputs": [],
   "source": [
    "# Parameters\n",
    "gamma = 0.99\n",
    "n_epochs = 4\n",
    "clip_range = 0.2\n",
    "learning_rate = 0.0001\n",
    "policy_kwargs = dict(optimizer_class=optim.Adam)\n",
    "\n",
    "\n",
    "# Agent\n",
    "ppo_model = PPO(\"MlpPolicy\",\n",
    "                env,\n",
    "                gamma=gamma,\n",
    "                n_epochs=n_epochs,\n",
    "                clip_range=clip_range,\n",
    "                learning_rate=learning_rate,\n",
    "                policy_kwargs=policy_kwargs,\n",
    "                tensorboard_log='logs/')"
   ]
  },
  {
   "cell_type": "code",
   "execution_count": null,
   "metadata": {},
   "outputs": [],
   "source": [
    "ppo_model.learn(total_timesteps=20000)"
   ]
  },
  {
   "cell_type": "markdown",
   "metadata": {},
   "source": [
    "# Results\n",
    "------"
   ]
  },
  {
   "cell_type": "code",
   "execution_count": null,
   "metadata": {},
   "outputs": [],
   "source": [
    "%load_ext tensorboard\n",
    "%tensorboard --logdir=logs/"
   ]
  },
  {
   "attachments": {},
   "cell_type": "markdown",
   "metadata": {},
   "source": [
    "# Predict\n",
    "------"
   ]
  },
  {
   "cell_type": "code",
   "execution_count": 7,
   "metadata": {},
   "outputs": [
    {
     "name": "stdout",
     "output_type": "stream",
     "text": [
      "\n",
      "0: ───I───Z───Z───Rz(0.25π)───@───Y───X───Y───Z───────\n",
      "                              │       │\n",
      "1: ───I───H───Z───────────────X───────@───Z───H───H───\n"
     ]
    }
   ],
   "source": [
    "import time\n",
    "from IPython.display import clear_output\n",
    "\n",
    "state = env.reset()\n",
    "done = False\n",
    "while not done:\n",
    "    action, _ = a2c_model.predict(state)\n",
    "    state, reward, done, info = env.step(action)\n",
    "    \n",
    "    clear_output(wait=True)\n",
    "    env.render()\n",
    "    time.sleep(1)"
   ]
  }
 ],
 "metadata": {
  "kernelspec": {
   "display_name": "Python 3",
   "language": "python",
   "name": "python3"
  },
  "language_info": {
   "codemirror_mode": {
    "name": "ipython",
    "version": 3
   },
   "file_extension": ".py",
   "mimetype": "text/x-python",
   "name": "python",
   "nbconvert_exporter": "python",
   "pygments_lexer": "ipython3",
   "version": "3.8.5"
  },
  "vscode": {
   "interpreter": {
    "hash": "570feb405e2e27c949193ac68f46852414290d515b0ba6e5d90d076ed2284471"
   }
  }
 },
 "nbformat": 4,
 "nbformat_minor": 4
}
